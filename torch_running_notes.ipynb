{
  "nbformat": 4,
  "nbformat_minor": 0,
  "metadata": {
    "colab": {
      "provenance": [],
      "gpuType": "T4",
      "authorship_tag": "ABX9TyPdXI9+8yyOyBbFnKrXg9Vh",
      "include_colab_link": true
    },
    "kernelspec": {
      "name": "python3",
      "display_name": "Python 3"
    },
    "language_info": {
      "name": "python"
    },
    "accelerator": "GPU"
  },
  "cells": [
    {
      "cell_type": "markdown",
      "metadata": {
        "id": "view-in-github",
        "colab_type": "text"
      },
      "source": [
        "<a href=\"https://colab.research.google.com/github/rkat7/torch-notes/blob/main/torch_running_notes.ipynb\" target=\"_parent\"><img src=\"https://colab.research.google.com/assets/colab-badge.svg\" alt=\"Open In Colab\"/></a>"
      ]
    },
    {
      "cell_type": "code",
      "execution_count": null,
      "metadata": {
        "colab": {
          "base_uri": "https://localhost:8080/",
          "height": 35
        },
        "id": "fyOgMyjFeCbP",
        "outputId": "f9a47847-4566-4950-d851-20f9d46d4c84"
      },
      "outputs": [
        {
          "output_type": "execute_result",
          "data": {
            "text/plain": [
              "'2.5.1+cu124'"
            ],
            "application/vnd.google.colaboratory.intrinsic+json": {
              "type": "string"
            }
          },
          "metadata": {},
          "execution_count": 2
        }
      ],
      "source": [
        "import torch\n",
        "torch.__version__"
      ]
    },
    {
      "cell_type": "markdown",
      "source": [
        "# Tensors are fundamental building block of Machine Learning.\n",
        "# their job is to represent data in a numeric way\n",
        "\n",
        "#tensor is a scalar with dimensions?\n",
        "# because scalar is tensor with 0 dimensions\n"
      ],
      "metadata": {
        "id": "mLm7ibEveake"
      }
    },
    {
      "cell_type": "code",
      "source": [
        "scalar = torch.tensor(5)\n",
        "scalar\n",
        "scalar.type"
      ],
      "metadata": {
        "colab": {
          "base_uri": "https://localhost:8080/"
        },
        "id": "Fp0gnbOuf4TN",
        "outputId": "21e0ccca-92dd-4a19-d01f-139aa1cda6c8"
      },
      "execution_count": null,
      "outputs": [
        {
          "output_type": "execute_result",
          "data": {
            "text/plain": [
              "<function Tensor.type>"
            ]
          },
          "metadata": {},
          "execution_count": 4
        }
      ]
    },
    {
      "cell_type": "code",
      "source": [
        "vector = torch.tensor([1,2])\n",
        "print(vector)\n",
        "print(vector.type)\n",
        "print(vector.ndim)\n"
      ],
      "metadata": {
        "colab": {
          "base_uri": "https://localhost:8080/"
        },
        "id": "_Kwl1rCrj06F",
        "outputId": "28be5318-e460-4caf-c11e-710c14e8ae7a"
      },
      "execution_count": null,
      "outputs": [
        {
          "output_type": "stream",
          "name": "stdout",
          "text": [
            "tensor([1, 2])\n",
            "<built-in method type of Tensor object at 0x7d3df5bca810>\n",
            "1\n"
          ]
        }
      ]
    },
    {
      "cell_type": "code",
      "source": [
        "matrix = torch.tensor([[1,2,3],[3,4,5],[6,7,8]])\n",
        "print(matrix)\n",
        "print(matrix.type)\n",
        "print(matrix.ndim)\n",
        "print(matrix.shape)\n",
        "print(matrix.size())"
      ],
      "metadata": {
        "colab": {
          "base_uri": "https://localhost:8080/"
        },
        "id": "AocxP2TQj7oD",
        "outputId": "3e27aa6c-2717-45c8-bb9e-50ffc7e80f01"
      },
      "execution_count": null,
      "outputs": [
        {
          "output_type": "stream",
          "name": "stdout",
          "text": [
            "torch.Size([3, 3])\n"
          ]
        }
      ]
    },
    {
      "cell_type": "code",
      "source": [
        "random_tensor = torch.rand(size=(5,6,7))\n",
        "random_tensor\n",
        "\n",
        "# random_tensor.ndim\n",
        "# random_tensor.shape\n",
        "# random_tensor.size()\n"
      ],
      "metadata": {
        "colab": {
          "base_uri": "https://localhost:8080/"
        },
        "id": "kr7nG2YbmSQT",
        "outputId": "c5ad0a0f-76ed-4b1d-908b-9ef4d4b1d6f2"
      },
      "execution_count": null,
      "outputs": [
        {
          "output_type": "execute_result",
          "data": {
            "text/plain": [
              "tensor([[[0.2414, 0.5409, 0.8426, 0.1564, 0.2791, 0.0479, 0.3396],\n",
              "         [0.2371, 0.9677, 0.0490, 0.9792, 0.4546, 0.0972, 0.0843],\n",
              "         [0.1648, 0.6131, 0.9204, 0.1016, 0.6278, 0.4452, 0.9655],\n",
              "         [0.7441, 0.9926, 0.5067, 0.0076, 0.6233, 0.2840, 0.0306],\n",
              "         [0.6148, 0.7150, 0.1819, 0.7729, 0.8084, 0.2153, 0.0588],\n",
              "         [0.3002, 0.7350, 0.2285, 0.7211, 0.9095, 0.8843, 0.3022]],\n",
              "\n",
              "        [[0.2649, 0.0851, 0.3882, 0.9598, 0.2777, 0.1187, 0.5347],\n",
              "         [0.8515, 0.9051, 0.5980, 0.8833, 0.3072, 0.7971, 0.6391],\n",
              "         [0.6208, 0.9105, 0.4487, 0.9765, 0.9452, 0.4385, 0.4663],\n",
              "         [0.6993, 0.2953, 0.0155, 0.8265, 0.5980, 0.6168, 0.9412],\n",
              "         [0.0780, 0.9217, 0.1971, 0.1769, 0.1734, 0.0847, 0.0489],\n",
              "         [0.4079, 0.8465, 0.3853, 0.1568, 0.7469, 0.3932, 0.0406]],\n",
              "\n",
              "        [[0.1502, 0.3446, 0.8491, 0.9175, 0.1654, 0.8057, 0.3877],\n",
              "         [0.9325, 0.1118, 0.2411, 0.6679, 0.3076, 0.2440, 0.3916],\n",
              "         [0.8869, 0.7370, 0.9760, 0.4890, 0.0318, 0.8727, 0.2740],\n",
              "         [0.7735, 0.0833, 0.8027, 0.2138, 0.4503, 0.7558, 0.1740],\n",
              "         [0.0467, 0.0580, 0.5944, 0.7750, 0.3778, 0.7934, 0.6036],\n",
              "         [0.0547, 0.0801, 0.2994, 0.4168, 0.2250, 0.1269, 0.0829]],\n",
              "\n",
              "        [[0.9740, 0.7718, 0.9756, 0.7055, 0.0181, 0.2067, 0.8713],\n",
              "         [0.4802, 0.7589, 0.5927, 0.8602, 0.4594, 0.3419, 0.9405],\n",
              "         [0.6232, 0.0378, 0.5195, 0.5530, 0.2072, 0.0126, 0.9028],\n",
              "         [0.6334, 0.1856, 0.0746, 0.2543, 0.4115, 0.2901, 0.3603],\n",
              "         [0.7463, 0.5872, 0.5268, 0.4072, 0.0411, 0.3141, 0.7487],\n",
              "         [0.4175, 0.4563, 0.1357, 0.5380, 0.7977, 0.5661, 0.7333]],\n",
              "\n",
              "        [[0.8312, 0.5317, 0.2049, 0.0869, 0.7740, 0.3028, 0.1441],\n",
              "         [0.6780, 0.5008, 0.1700, 0.7918, 0.6951, 0.4327, 0.9790],\n",
              "         [0.7385, 0.5184, 0.1993, 0.2261, 0.7295, 0.3833, 0.7846],\n",
              "         [0.3261, 0.4631, 0.4317, 0.7094, 0.0895, 0.9500, 0.7522],\n",
              "         [0.3967, 0.6834, 0.7625, 0.6293, 0.9810, 0.5948, 0.1383],\n",
              "         [0.3441, 0.8280, 0.4934, 0.2971, 0.8688, 0.6507, 0.1447]]])"
            ]
          },
          "metadata": {},
          "execution_count": 24
        }
      ]
    },
    {
      "cell_type": "markdown",
      "source": [
        "# Might often wanna create a tensor with just 0s or 1s\n",
        "\n",
        "# particularly for masking"
      ],
      "metadata": {
        "id": "wKSJcdIKm5Pm"
      }
    },
    {
      "cell_type": "code",
      "source": [
        "zeros = torch.zeros(size=(4,5))\n",
        "ones = torch.ones(size=(4,5))\n",
        "print(zeros)\n",
        "print(ones)\n",
        "\n",
        "print(ones.type, zeros.type)\n",
        "print(ones.ndim, zeros.ndim)\n",
        "print(ones.dtype, zeros.dtype)"
      ],
      "metadata": {
        "colab": {
          "base_uri": "https://localhost:8080/"
        },
        "id": "EaHqxMJrm_rj",
        "outputId": "f3a77485-b45d-47fb-a17d-1f0ecbc5a68e"
      },
      "execution_count": null,
      "outputs": [
        {
          "output_type": "stream",
          "name": "stdout",
          "text": [
            "tensor([[0., 0., 0., 0., 0.],\n",
            "        [0., 0., 0., 0., 0.],\n",
            "        [0., 0., 0., 0., 0.],\n",
            "        [0., 0., 0., 0., 0.]])\n",
            "tensor([[1., 1., 1., 1., 1.],\n",
            "        [1., 1., 1., 1., 1.],\n",
            "        [1., 1., 1., 1., 1.],\n",
            "        [1., 1., 1., 1., 1.]])\n",
            "<built-in method type of Tensor object at 0x7d3d0ac79eb0> <built-in method type of Tensor object at 0x7d3d0ac7a570>\n",
            "2 2\n",
            "torch.float32 torch.float32\n"
          ]
        }
      ]
    },
    {
      "cell_type": "code",
      "source": [
        "range_tensor = torch.arange(1,10,1)\n",
        "range_tensor"
      ],
      "metadata": {
        "colab": {
          "base_uri": "https://localhost:8080/"
        },
        "id": "M7nkYLO5oRfe",
        "outputId": "b73cd9d4-bee3-4505-bb2c-6bc419152427"
      },
      "execution_count": null,
      "outputs": [
        {
          "output_type": "execute_result",
          "data": {
            "text/plain": [
              "tensor([1, 2, 3, 4, 5, 6, 7, 8, 9])"
            ]
          },
          "metadata": {},
          "execution_count": 32
        }
      ]
    },
    {
      "cell_type": "code",
      "source": [
        "# mimicking a tensor but with zeros or ones (wrt the shape)\n",
        "mimicked_zeros = torch.zeros_like(zeros)\n",
        "print(mimicked_zeros)\n",
        "\n",
        "mimicked_ones = torch.ones_like(ones)\n",
        "print(mimicked_ones)"
      ],
      "metadata": {
        "colab": {
          "base_uri": "https://localhost:8080/"
        },
        "id": "VPSIsK_aoXPt",
        "outputId": "2e163096-a5fc-49bf-f986-7d3ad241527d"
      },
      "execution_count": null,
      "outputs": [
        {
          "output_type": "stream",
          "name": "stdout",
          "text": [
            "tensor([[0., 0., 0., 0., 0.],\n",
            "        [0., 0., 0., 0., 0.],\n",
            "        [0., 0., 0., 0., 0.],\n",
            "        [0., 0., 0., 0., 0.]])\n",
            "tensor([[1., 1., 1., 1., 1.],\n",
            "        [1., 1., 1., 1., 1.],\n",
            "        [1., 1., 1., 1., 1.],\n",
            "        [1., 1., 1., 1., 1.]])\n"
          ]
        }
      ]
    },
    {
      "cell_type": "markdown",
      "source": [
        "# plenty of dtypes available in pytorch\n",
        "# each its own use\n",
        "# precision varies across use cases - so gotta use appropriate dtype\n",
        "\n"
      ],
      "metadata": {
        "id": "5ue9di4DsgyP"
      }
    },
    {
      "cell_type": "code",
      "source": [
        "#default dtype is float32\n",
        "\n",
        "example_tensor = torch.tensor([1,2,3], dtype=None, device=None, requires_grad=False)\n",
        "#requires_grad - gradient - It records operations performed on the tensor\n",
        "\n",
        "example_tensor.shape, example_tensor.dtype, example_tensor.device"
      ],
      "metadata": {
        "colab": {
          "base_uri": "https://localhost:8080/"
        },
        "id": "4xeevkHWtwC_",
        "outputId": "167b68c4-3d24-41a9-b5a2-314d3b709020"
      },
      "execution_count": null,
      "outputs": [
        {
          "output_type": "execute_result",
          "data": {
            "text/plain": [
              "(torch.Size([3]), torch.int64, device(type='cpu'))"
            ]
          },
          "metadata": {},
          "execution_count": 37
        }
      ]
    },
    {
      "cell_type": "markdown",
      "source": [
        "\n",
        "\n",
        "> Aside from shape issues (tensor shapes don't match up), two of the other most common issues you'll come across in PyTorch are datatype and device issues.\n",
        "\n"
      ],
      "metadata": {
        "id": "0CQgILSourYd"
      }
    },
    {
      "cell_type": "markdown",
      "source": [
        "# debug song\n",
        "> what, what, where:\n",
        "\n",
        "> shape, dtype, device\n",
        "\n"
      ],
      "metadata": {
        "id": "kFbqebNivZ8G"
      }
    },
    {
      "cell_type": "markdown",
      "source": [
        "\n",
        "\n",
        "```\n",
        "tensor * tensor -> element wise multiplication\n",
        "\n",
        "torch.matmul(tensor, tensor) -> matrix multiplication\n",
        "\n",
        "tensor @ tensor -> matrix multiplicaiton (python convnetion)\n",
        "```\n",
        "\n"
      ],
      "metadata": {
        "id": "oNbu4qs2x0tv"
      }
    },
    {
      "cell_type": "code",
      "source": [
        "%%time\n",
        "\n",
        "tensor = torch.arange(1,11,1)\n",
        "\n",
        "print(tensor)\n",
        "\n",
        "for i in range(len(tensor)):\n",
        "  tensor[i] += tensor[i]\n",
        "\n",
        "tensor"
      ],
      "metadata": {
        "colab": {
          "base_uri": "https://localhost:8080/"
        },
        "id": "S727ccGAvjuZ",
        "outputId": "dbf0505f-ea9c-47ee-c8fb-8e120a6f61a4"
      },
      "execution_count": null,
      "outputs": [
        {
          "output_type": "stream",
          "name": "stdout",
          "text": [
            "tensor([ 1,  2,  3,  4,  5,  6,  7,  8,  9, 10])\n",
            "CPU times: user 2.67 ms, sys: 0 ns, total: 2.67 ms\n",
            "Wall time: 5.37 ms\n"
          ]
        },
        {
          "output_type": "execute_result",
          "data": {
            "text/plain": [
              "tensor([ 2,  4,  6,  8, 10, 12, 14, 16, 18, 20])"
            ]
          },
          "metadata": {},
          "execution_count": 41
        }
      ]
    },
    {
      "cell_type": "code",
      "source": [
        "# matrix transpose to the rescue\n",
        "#Use:\n",
        "#tensor.T\n",
        "#OR\n",
        "#torch.transpose(tensor, dim0, dim1)\n"
      ],
      "metadata": {
        "id": "JW_jxlg956Qk"
      },
      "execution_count": null,
      "outputs": []
    },
    {
      "cell_type": "code",
      "source": [
        "#torch.mm() is short for .matmul()"
      ],
      "metadata": {
        "id": "72-oFCoX6Ntl"
      },
      "execution_count": null,
      "outputs": []
    },
    {
      "cell_type": "code",
      "source": [
        "# aggregations\n",
        "\n",
        "x = torch.arange(1,10,1)\n",
        "\n",
        "x.max(), x.min()\n",
        "\n",
        "x.sum(), x.type(torch.float64).mean()\n",
        "\n",
        "x.type(torch.float16).mean()\n"
      ],
      "metadata": {
        "colab": {
          "base_uri": "https://localhost:8080/"
        },
        "id": "4jGBmhAo-9PH",
        "outputId": "637ed694-59ac-40c0-d5ec-e0371de780a9"
      },
      "execution_count": null,
      "outputs": [
        {
          "output_type": "execute_result",
          "data": {
            "text/plain": [
              "tensor(5., dtype=torch.float16)"
            ]
          },
          "metadata": {},
          "execution_count": 11
        }
      ]
    },
    {
      "cell_type": "code",
      "source": [
        "#find index where max or min occurs\n",
        "\n",
        "print(f\"index of max in tensor x {x.argmax()}\")\n",
        "print(f\"index of min in tensor x {x.argmin()}\")"
      ],
      "metadata": {
        "colab": {
          "base_uri": "https://localhost:8080/"
        },
        "id": "SweR2kKTAYo8",
        "outputId": "cf9571cc-1b81-44b9-aa64-52833f786c8b"
      },
      "execution_count": null,
      "outputs": [
        {
          "output_type": "stream",
          "name": "stdout",
          "text": [
            "index of max in tensor x 8\n",
            "index of min in tensor x 0\n"
          ]
        }
      ]
    },
    {
      "cell_type": "code",
      "source": [
        "#to solve the problem of shape we saw - Transpose\n",
        "# now to solve datatype...\n",
        "\n",
        "Tensor1, Tensor2 = torch.arange(1,10,1), torch.arange(1., 10., 1.)\n",
        "print(Tensor1.dtype, Tensor2.dtype)\n",
        "\n",
        "#you can change the tensor x's type by - x.type(dtype=None)\n",
        "\n",
        "# so swapping types now\n",
        "\n",
        "Tensor1, Tensor2 = Tensor1.type(torch.float32), Tensor2.type(torch.int64)\n",
        "print(Tensor1.dtype, Tensor2.dtype)\n",
        "\n",
        "\n"
      ],
      "metadata": {
        "colab": {
          "base_uri": "https://localhost:8080/"
        },
        "id": "JO5mawgfBATc",
        "outputId": "0274fe8b-c310-4efd-924e-c4c105af4125"
      },
      "execution_count": null,
      "outputs": [
        {
          "output_type": "stream",
          "name": "stdout",
          "text": [
            "torch.int64 torch.float32\n",
            "torch.float32 torch.int64\n"
          ]
        }
      ]
    },
    {
      "cell_type": "code",
      "source": [
        "# reshaping, stacking, squeezing and unsqueezing, permute\n",
        "\n",
        "Tensor3 = torch.stack([Tensor1, Tensor2], 0)\n",
        "Tensor4 = torch.stack([Tensor1, Tensor2], 1)\n",
        "Tensor1.shape, Tensor2.shape, Tensor3.shape\n",
        "Tensor3"
      ],
      "metadata": {
        "colab": {
          "base_uri": "https://localhost:8080/"
        },
        "id": "Dm_rqf2yDsxP",
        "outputId": "062e7fe2-20c8-4aef-92ac-fb14be0e3f6e"
      },
      "execution_count": null,
      "outputs": [
        {
          "output_type": "execute_result",
          "data": {
            "text/plain": [
              "tensor([[1., 2., 3., 4., 5., 6., 7., 8., 9.],\n",
              "        [1., 2., 3., 4., 5., 6., 7., 8., 9.]])"
            ]
          },
          "metadata": {},
          "execution_count": 30
        }
      ]
    },
    {
      "cell_type": "code",
      "source": [
        "#indexing of tensors goes from outer index --> inner index\n",
        "\n",
        "t = torch.arange(1,10,1).reshape(1,3,3)\n",
        "\n",
        "t\n",
        "\n",
        "t[:][:][:]\n",
        "\n",
        "t[:,:,2]"
      ],
      "metadata": {
        "colab": {
          "base_uri": "https://localhost:8080/"
        },
        "id": "jOkE47ncLv4n",
        "outputId": "ac3adc75-a317-4794-d224-0b905a8f134b"
      },
      "execution_count": null,
      "outputs": [
        {
          "output_type": "execute_result",
          "data": {
            "text/plain": [
              "tensor([[3, 6, 9]])"
            ]
          },
          "metadata": {},
          "execution_count": 67
        }
      ]
    },
    {
      "cell_type": "code",
      "source": [
        "#pytorch tensors and numpy arrays\n",
        "\n",
        "# torch.from_numpy(ndarray)\n",
        "# torch.Tensor.numpy()\n",
        "\n",
        "# default numpy arrays dtype - float64\n",
        "# default torch tensors - float32\n",
        "\n",
        "\n"
      ],
      "metadata": {
        "id": "EReNSn5OiK7U"
      },
      "execution_count": null,
      "outputs": []
    },
    {
      "cell_type": "code",
      "source": [
        "#reproducability in torch\n",
        "# taking out a bit of randomness\n",
        "\n",
        "import torch\n",
        "import random\\\n",
        "\n",
        "# torch.manual_seed(RANDOM_SEED)\n",
        "# torch.random.manual_seed(RANDOM_SEED)\n",
        "\n",
        "# # Set the random seed\n",
        "RANDOM_SEED=42 # try changing this to different values and see what happens to the numbers below\n",
        "torch.manual_seed(seed=RANDOM_SEED)\n",
        "random_tensor_C = torch.rand(3, 4)\n",
        "\n",
        "# Have to reset the seed every time a new rand() is called\n",
        "# Without this, tensor_D would be different to tensor_C\n",
        "# torch.random.manual_seed(seed=RANDOM_SEED) # try commenting this line out and seeing what happens\n",
        "random_tensor_D = torch.rand(3, 4)\n",
        "\n",
        "print(f\"Tensor C:\\n{random_tensor_C}\\n\")\n",
        "print(f\"Tensor D:\\n{random_tensor_D}\\n\")\n",
        "print(f\"Does Tensor C equal Tensor D? (anywhere)\")\n",
        "random_tensor_C == random_tensor_D"
      ],
      "metadata": {
        "colab": {
          "base_uri": "https://localhost:8080/"
        },
        "id": "a1_gKRkykrAC",
        "outputId": "36bd1734-8013-4dcb-b0f2-d90677072418"
      },
      "execution_count": null,
      "outputs": [
        {
          "output_type": "stream",
          "name": "stdout",
          "text": [
            "Tensor C:\n",
            "tensor([[0.8823, 0.9150, 0.3829, 0.9593],\n",
            "        [0.3904, 0.6009, 0.2566, 0.7936],\n",
            "        [0.9408, 0.1332, 0.9346, 0.5936]])\n",
            "\n",
            "Tensor D:\n",
            "tensor([[0.8694, 0.5677, 0.7411, 0.4294],\n",
            "        [0.8854, 0.5739, 0.2666, 0.6274],\n",
            "        [0.2696, 0.4414, 0.2969, 0.8317]])\n",
            "\n",
            "Does Tensor C equal Tensor D? (anywhere)\n"
          ]
        },
        {
          "output_type": "execute_result",
          "data": {
            "text/plain": [
              "tensor([[False, False, False, False],\n",
              "        [False, False, False, False],\n",
              "        [False, False, False, False]])"
            ]
          },
          "metadata": {},
          "execution_count": 2
        }
      ]
    },
    {
      "cell_type": "code",
      "source": [
        "!nvidia-smi\n"
      ],
      "metadata": {
        "colab": {
          "base_uri": "https://localhost:8080/"
        },
        "id": "K_LhCO9LpxXd",
        "outputId": "b0aafb55-0441-4117-e217-31ebabb133ab"
      },
      "execution_count": null,
      "outputs": [
        {
          "output_type": "stream",
          "name": "stdout",
          "text": [
            "Sun Feb 23 21:12:44 2025       \n",
            "+-----------------------------------------------------------------------------------------+\n",
            "| NVIDIA-SMI 550.54.15              Driver Version: 550.54.15      CUDA Version: 12.4     |\n",
            "|-----------------------------------------+------------------------+----------------------+\n",
            "| GPU  Name                 Persistence-M | Bus-Id          Disp.A | Volatile Uncorr. ECC |\n",
            "| Fan  Temp   Perf          Pwr:Usage/Cap |           Memory-Usage | GPU-Util  Compute M. |\n",
            "|                                         |                        |               MIG M. |\n",
            "|=========================================+========================+======================|\n",
            "|   0  Tesla T4                       Off |   00000000:00:04.0 Off |                    0 |\n",
            "| N/A   37C    P8              9W /   70W |       0MiB /  15360MiB |      0%      Default |\n",
            "|                                         |                        |                  N/A |\n",
            "+-----------------------------------------+------------------------+----------------------+\n",
            "                                                                                         \n",
            "+-----------------------------------------------------------------------------------------+\n",
            "| Processes:                                                                              |\n",
            "|  GPU   GI   CI        PID   Type   Process name                              GPU Memory |\n",
            "|        ID   ID                                                               Usage      |\n",
            "|=========================================================================================|\n",
            "|  No running processes found                                                             |\n",
            "+-----------------------------------------------------------------------------------------+\n"
          ]
        }
      ]
    },
    {
      "cell_type": "code",
      "source": [
        "import torch\n",
        "torch.cuda.is_available()"
      ],
      "metadata": {
        "colab": {
          "base_uri": "https://localhost:8080/"
        },
        "id": "tmiods4YqIqY",
        "outputId": "f0b340e5-9bcb-4bd3-a9d9-a453df32e4d8"
      },
      "execution_count": null,
      "outputs": [
        {
          "output_type": "execute_result",
          "data": {
            "text/plain": [
              "True"
            ]
          },
          "metadata": {},
          "execution_count": 4
        }
      ]
    },
    {
      "cell_type": "code",
      "source": [
        "tensor = torch.tensor(4)\n",
        "tensor.device\n",
        "\n",
        "\n",
        "device = \"cuda\" if torch.cuda.is_available() else tensor.device\n",
        "\n",
        "device"
      ],
      "metadata": {
        "colab": {
          "base_uri": "https://localhost:8080/",
          "height": 35
        },
        "id": "AvRtJ82SqYLA",
        "outputId": "5c2b4e66-03fb-4e2a-a48f-13cb48657b57"
      },
      "execution_count": null,
      "outputs": [
        {
          "output_type": "execute_result",
          "data": {
            "text/plain": [
              "'cuda'"
            ],
            "application/vnd.google.colaboratory.intrinsic+json": {
              "type": "string"
            }
          },
          "metadata": {},
          "execution_count": 13
        }
      ]
    },
    {
      "cell_type": "code",
      "source": [
        "torch.cuda.device_count()"
      ],
      "metadata": {
        "colab": {
          "base_uri": "https://localhost:8080/"
        },
        "id": "-O3sy3cktvtg",
        "outputId": "ab7f7efb-8f9c-434c-9550-645406e41c6a"
      },
      "execution_count": null,
      "outputs": [
        {
          "output_type": "execute_result",
          "data": {
            "text/plain": [
              "1"
            ]
          },
          "metadata": {},
          "execution_count": 14
        }
      ]
    },
    {
      "cell_type": "code",
      "source": [
        "#important to write device-agnostic code in pytorch\n",
        "\n",
        "#moving code to a device\n",
        "\n",
        "# tensor.to(device) this just creates a copy\n",
        "#gotta resassin to overwrite\n",
        "print(torch.device)\n",
        "tensor_on_gpu = tensor.to(device)\n",
        "\n",
        "tensor_on_gpu\n"
      ],
      "metadata": {
        "colab": {
          "base_uri": "https://localhost:8080/"
        },
        "id": "s8Oub1SPubZ-",
        "outputId": "92ab6905-6d84-4f0f-a6cc-b620f97724af"
      },
      "execution_count": null,
      "outputs": [
        {
          "output_type": "stream",
          "name": "stdout",
          "text": [
            "<class 'torch.device'>\n"
          ]
        },
        {
          "output_type": "execute_result",
          "data": {
            "text/plain": [
              "tensor(4, device='cuda:0')"
            ]
          },
          "metadata": {},
          "execution_count": 16
        }
      ]
    },
    {
      "cell_type": "code",
      "source": [
        "#moving back to cpu -  might need when you want to interact with numpy as numpy doesn't do gpus\n",
        "\n",
        "#tensor_on_gpu.numpy() -> returns error\n",
        "\n",
        "tensor_on_gpu.cpu().numpy()"
      ],
      "metadata": {
        "colab": {
          "base_uri": "https://localhost:8080/"
        },
        "id": "6Fa4TswzvIpt",
        "outputId": "0cc54ce4-b0cb-42a7-f7a8-34bf91a80424"
      },
      "execution_count": null,
      "outputs": [
        {
          "output_type": "execute_result",
          "data": {
            "text/plain": [
              "array(4)"
            ]
          },
          "metadata": {},
          "execution_count": 17
        }
      ]
    },
    {
      "cell_type": "code",
      "source": [],
      "metadata": {
        "id": "shf_-DXmyfmd"
      },
      "execution_count": null,
      "outputs": []
    }
  ]
}